{
 "cells": [
  {
   "cell_type": "code",
   "execution_count": 4,
   "id": "b5ff4efa-8165-470b-8be2-ef83ba62fb12",
   "metadata": {},
   "outputs": [
    {
     "name": "stdout",
     "output_type": "stream",
     "text": [
      "Epoch 1/5\n"
     ]
    },
    {
     "name": "stderr",
     "output_type": "stream",
     "text": [
      "2023-09-05 11:25:34.184084: I ./tensorflow/compiler/jit/device_compiler.h:186] Compiled cluster using XLA!  This line is logged at most once for the lifetime of the process.\n"
     ]
    },
    {
     "name": "stdout",
     "output_type": "stream",
     "text": [
      "1875/1875 [==============================] - ETA: 0s - loss: 0.2996 - accuracy: 0.9132\n",
      "Epoch 1: saving model to training/cp.ckpt\n",
      "1875/1875 [==============================] - 4s 2ms/step - loss: 0.2996 - accuracy: 0.9132\n",
      "Epoch 2/5\n",
      "1855/1875 [============================>.] - ETA: 0s - loss: 0.1438 - accuracy: 0.9581\n",
      "Epoch 2: saving model to training/cp.ckpt\n",
      "1875/1875 [==============================] - 3s 2ms/step - loss: 0.1441 - accuracy: 0.9581\n",
      "Epoch 3/5\n",
      "1855/1875 [============================>.] - ETA: 0s - loss: 0.1092 - accuracy: 0.9670\n",
      "Epoch 3: saving model to training/cp.ckpt\n",
      "1875/1875 [==============================] - 3s 2ms/step - loss: 0.1089 - accuracy: 0.9670\n",
      "Epoch 4/5\n",
      "1861/1875 [============================>.] - ETA: 0s - loss: 0.0873 - accuracy: 0.9729\n",
      "Epoch 4: saving model to training/cp.ckpt\n",
      "1875/1875 [==============================] - 3s 2ms/step - loss: 0.0875 - accuracy: 0.9729\n",
      "Epoch 5/5\n",
      "1849/1875 [============================>.] - ETA: 0s - loss: 0.0737 - accuracy: 0.9767\n",
      "Epoch 5: saving model to training/cp.ckpt\n",
      "1875/1875 [==============================] - 3s 2ms/step - loss: 0.0738 - accuracy: 0.9768\n"
     ]
    },
    {
     "data": {
      "text/plain": [
       "<keras.src.callbacks.History at 0x7f35860ecac0>"
      ]
     },
     "execution_count": 4,
     "metadata": {},
     "output_type": "execute_result"
    }
   ],
   "source": [
    "import tensorflow as tf\n",
    "from tensorflow.keras.datasets import mnist\n",
    "import os\n",
    "(x_train, y_train), (x_test, y_test) = mnist.load_data()\n",
    "\n",
    "# Normalize the images.\n",
    "x_train = x_train / 255.0\n",
    "x_test = x_test / 255.0\n",
    "\n",
    "# If you have checkpoint\n",
    "load_from_checkpoint = False\n",
    "\n",
    "model = tf.keras.models.Sequential([\n",
    "  tf.keras.layers.Flatten(input_shape=(28, 28)),\n",
    "  tf.keras.layers.Dense(128, activation='relu'),\n",
    "  tf.keras.layers.Dropout(0.2),\n",
    "  tf.keras.layers.Dense(10)\n",
    "])\n",
    "\n",
    "checkpoint_path = \"training/cp.ckpt\"\n",
    "checkpoint_dir = os.path.dirname(checkpoint_path)\n",
    "\n",
    "if load_from_checkpoint:\n",
    "    model.load_weights(checkpoint_path)\n",
    "    \n",
    "cp_callback = tf.keras.callbacks.ModelCheckpoint(filepath=checkpoint_path,\n",
    "                                                 save_weights_only=True,\n",
    "                                                 verbose=1)\n",
    "\n",
    "model.compile(optimizer='adam',\n",
    "              loss=tf.keras.losses.SparseCategoricalCrossentropy(from_logits=True),\n",
    "              metrics=['accuracy'])\n",
    "\n",
    "model.fit(x_train, y_train, epochs=5, callbacks=[cp_callback])"
   ]
  }
 ],
 "metadata": {
  "kernelspec": {
   "display_name": "Python 3 (ipykernel)",
   "language": "python",
   "name": "python3"
  },
  "language_info": {
   "codemirror_mode": {
    "name": "ipython",
    "version": 3
   },
   "file_extension": ".py",
   "mimetype": "text/x-python",
   "name": "python",
   "nbconvert_exporter": "python",
   "pygments_lexer": "ipython3",
   "version": "3.9.17"
  }
 },
 "nbformat": 4,
 "nbformat_minor": 5
}
