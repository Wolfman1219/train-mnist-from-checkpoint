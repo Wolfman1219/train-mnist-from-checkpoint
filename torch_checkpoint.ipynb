{
 "cells": [
  {
   "cell_type": "markdown",
   "id": "8820f60e-b041-4dd3-b2b0-6715f9689e3c",
   "metadata": {},
   "source": [
    "# Training model include checkpoint functions"
   ]
  },
  {
   "cell_type": "markdown",
   "id": "f72c9c56-ad80-401e-9a9b-d326eb4f0478",
   "metadata": {},
   "source": [
    "## Import necessary packages"
   ]
  },
  {
   "cell_type": "code",
   "execution_count": null,
   "id": "9d4fc27a-cc30-4f71-9d5d-1699e15d81b7",
   "metadata": {},
   "outputs": [],
   "source": [
    "import torch\n",
    "from torch import nn, optim\n",
    "from torchvision import datasets, transforms\n",
    "from torch.utils.data import DataLoader\n",
    "import os\n"
   ]
  },
  {
   "cell_type": "markdown",
   "id": "54842080-398a-4f18-ab48-ef94357023a7",
   "metadata": {},
   "source": [
    "## Loading and separate dataset"
   ]
  },
  {
   "cell_type": "code",
   "execution_count": 2,
   "id": "c00a1fac-84fe-40a3-8615-6df84a51073d",
   "metadata": {},
   "outputs": [],
   "source": [
    "transform = transforms.Compose([transforms.ToTensor(),\n",
    "                                transforms.Normalize((0.5,), (0.5,))])\n",
    "\n",
    "trainset = datasets.MNIST('~/.pytorch/MNIST_data/', download=True, train=True, transform=transform)\n",
    "trainloader = DataLoader(trainset, batch_size=64, shuffle=True)"
   ]
  },
  {
   "cell_type": "markdown",
   "id": "d1f17732-3add-43ff-b830-4d60d976b269",
   "metadata": {},
   "source": [
    "## Create model architecture"
   ]
  },
  {
   "cell_type": "code",
   "execution_count": 3,
   "id": "94fd70ec-b38e-40f1-8391-edb11616320f",
   "metadata": {},
   "outputs": [],
   "source": [
    "model = nn.Sequential(nn.Linear(784, 128),\n",
    "                      nn.ReLU(),\n",
    "                      nn.Dropout(0.2),\n",
    "                      nn.Linear(128, 10),\n",
    "                      nn.LogSoftmax(dim=1))\n",
    "\n",
    "criterion = nn.NLLLoss()\n",
    "optimizer = optim.Adam(model.parameters(), lr=0.003)\n",
    "\n",
    "checkpoint_path = \"model.pth\""
   ]
  },
  {
   "cell_type": "markdown",
   "id": "91a00779-7ee3-485a-9b01-f25767cbbea6",
   "metadata": {},
   "source": [
    "## Loading checkpoint if exists"
   ]
  },
  {
   "cell_type": "code",
   "execution_count": 7,
   "id": "0b6669e8-e64b-46d9-8ddd-4935f812e0bb",
   "metadata": {},
   "outputs": [],
   "source": [
    "if os.path.isfile(checkpoint_path):\n",
    "    checkpoint = torch.load(checkpoint_path)\n",
    "    model.load_state_dict(checkpoint['model_state_dict'])\n",
    "    optimizer.load_state_dict(checkpoint['optimizer_state_dict'])\n",
    "    epoch = checkpoint['epoch']\n",
    "    loss = checkpoint['loss']"
   ]
  },
  {
   "cell_type": "markdown",
   "id": "b0d2ce1f-c5e3-4ebd-bd94-f6e96a8912da",
   "metadata": {},
   "source": [
    "## Train the model"
   ]
  },
  {
   "cell_type": "code",
   "execution_count": 5,
   "id": "66c4a2ec-8f7d-4956-9431-6c942b1e7343",
   "metadata": {},
   "outputs": [
    {
     "name": "stdout",
     "output_type": "stream",
     "text": [
      "Training loss: 0.1976056610390957\n",
      "Training loss: 0.1859539302546523\n",
      "Training loss: 0.18490801261825315\n",
      "Training loss: 0.1756501353022132\n",
      "Training loss: 0.1702369614335488\n"
     ]
    }
   ],
   "source": [
    "epochs = 5\n",
    "for e in range(epochs):\n",
    "    running_loss = 0\n",
    "    for images, labels in trainloader:\n",
    "        # Flatten MNIST images into a 784 long vector\n",
    "        images = images.view(images.shape[0], -1)\n",
    "\n",
    "        optimizer.zero_grad()\n",
    "\n",
    "        output = model(images)\n",
    "        loss = criterion(output, labels)\n",
    "        loss.backward()\n",
    "        optimizer.step()\n",
    "\n",
    "        running_loss += loss.item()\n",
    "    else:\n",
    "        print(f\"Training loss: {running_loss/len(trainloader)}\")\n",
    "\n",
    "    # Saving the model\n",
    "    torch.save({\n",
    "            'epoch': e,\n",
    "            'model_state_dict': model.state_dict(),\n",
    "            'optimizer_state_dict': optimizer.state_dict(),\n",
    "            'loss': loss,\n",
    "            }, checkpoint_path)"
   ]
  }
 ],
 "metadata": {
  "kernelspec": {
   "display_name": "Python 3 (ipykernel)",
   "language": "python",
   "name": "python3"
  },
  "language_info": {
   "codemirror_mode": {
    "name": "ipython",
    "version": 3
   },
   "file_extension": ".py",
   "mimetype": "text/x-python",
   "name": "python",
   "nbconvert_exporter": "python",
   "pygments_lexer": "ipython3",
   "version": "3.9.17"
  }
 },
 "nbformat": 4,
 "nbformat_minor": 5
}
